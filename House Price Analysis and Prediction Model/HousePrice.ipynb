{
 "cells": [
  {
   "cell_type": "code",
   "execution_count": 6,
   "id": "1134cdb4-a9d9-4ebf-8ab1-aa99cfb32d3e",
   "metadata": {},
   "outputs": [],
   "source": [
    "import pandas as pd\n",
    "import numpy as np\n",
    "import seaborn as sns\n",
    "import matplotlib.pyplot as plt\n",
    "import folium\n",
    "import datetime\n",
    "from scipy import stats\n",
    "from scipy.stats import zscore\n",
    "from scipy.stats.mstats import winsorize\n",
    "from sklearn.preprocessing import LabelEncoder\n",
    "from folium.plugins import MarkerCluster\n",
    "from IPython.display import display, HTML\n",
    "from sklearn.model_selection import train_test_split\n",
    "from sklearn.linear_model import LinearRegression\n",
    "from sklearn.metrics import mean_absolute_error, mean_squared_error, r2_score\n",
    "from sklearn.ensemble import RandomForestRegressor, GradientBoostingRegressor"
   ]
  },
  {
   "cell_type": "code",
   "execution_count": 7,
   "id": "c80f9c2a-80fb-4eba-ac3d-d0d6f27dd69a",
   "metadata": {},
   "outputs": [],
   "source": [
    "pd.options.display.max_columns = None\n",
    "df = pd.read_csv('zameen-updated.csv')"
   ]
  },
  {
   "cell_type": "code",
   "execution_count": 8,
   "id": "d764bd4f-f8e5-4cdd-9dc1-b18d246ae3bd",
   "metadata": {},
   "outputs": [
    {
     "name": "stdout",
     "output_type": "stream",
     "text": [
      "property_id          0\n",
      "location_id          0\n",
      "page_url             0\n",
      "property_type        0\n",
      "price                0\n",
      "location             0\n",
      "city                 0\n",
      "province_name        0\n",
      "latitude             0\n",
      "longitude            0\n",
      "baths                0\n",
      "area                 0\n",
      "purpose              0\n",
      "bedrooms             0\n",
      "date_added           0\n",
      "agency           44071\n",
      "agent            44072\n",
      "Area Type            0\n",
      "Area Size            0\n",
      "Area Category        0\n",
      "dtype: int64\n"
     ]
    }
   ],
   "source": [
    "missing_values = df.isnull().sum()\n",
    "print(missing_values)"
   ]
  },
  {
   "cell_type": "code",
   "execution_count": 12,
   "id": "886f9eb7-669d-423c-90ae-70a5f57f8eba",
   "metadata": {},
   "outputs": [],
   "source": [
    "df['agency'].fillna('NA', inplace=True)\n",
    "df['agent'].fillna('NA', inplace=True)"
   ]
  },
  {
   "cell_type": "code",
   "execution_count": 14,
   "id": "214a5ba6-96eb-49fd-9a20-fae772e52d7c",
   "metadata": {},
   "outputs": [
    {
     "data": {
      "text/plain": [
       "property_id      0\n",
       "location_id      0\n",
       "page_url         0\n",
       "property_type    0\n",
       "price            0\n",
       "location         0\n",
       "city             0\n",
       "province_name    0\n",
       "latitude         0\n",
       "longitude        0\n",
       "baths            0\n",
       "area             0\n",
       "purpose          0\n",
       "bedrooms         0\n",
       "date_added       0\n",
       "agency           0\n",
       "agent            0\n",
       "Area Type        0\n",
       "Area Size        0\n",
       "Area Category    0\n",
       "dtype: int64"
      ]
     },
     "execution_count": 14,
     "metadata": {},
     "output_type": "execute_result"
    }
   ],
   "source": [
    "df.isnull().sum() "
   ]
  },
  {
   "cell_type": "code",
   "execution_count": 24,
   "id": "c169f990-178d-4e87-a727-d1141b60bcfb",
   "metadata": {},
   "outputs": [],
   "source": [
    "categories = ['page_url', 'property_type', 'location', 'city', 'province_name', 'purpose']\n",
    "for c in categories:\n",
    " df[c] = df[c].str.strip().str.lower()"
   ]
  },
  {
   "cell_type": "code",
   "execution_count": 26,
   "id": "14de3cd7-89e7-4e97-95f0-7c96c0164805",
   "metadata": {},
   "outputs": [],
   "source": [
    "df = df[df['price'] > 0]"
   ]
  },
  {
   "cell_type": "code",
   "execution_count": 28,
   "id": "4e823221-d812-4734-bcb9-822f69283587",
   "metadata": {},
   "outputs": [],
   "source": [
    "df = df[(df['latitude'].between(-90, 90)) & (df['longitude'].between(-180, 180))]"
   ]
  },
  {
   "cell_type": "code",
   "execution_count": 30,
   "id": "043fba78-fddb-4385-8b36-18896e987cd7",
   "metadata": {},
   "outputs": [
    {
     "name": "stdout",
     "output_type": "stream",
     "text": [
      "0\n"
     ]
    }
   ],
   "source": [
    "df = df[df['baths'] >= 0]\n",
    "df = df[df['bedrooms'] >= 0]\n",
    "duplicates = df.duplicated().sum()\n",
    "print(duplicates)"
   ]
  },
  {
   "cell_type": "code",
   "execution_count": 32,
   "id": "eabf96f1-d883-44c2-9e07-00b07fdede84",
   "metadata": {},
   "outputs": [
    {
     "name": "stdout",
     "output_type": "stream",
     "text": [
      "{'price': 13547, 'latitude': 9, 'longitude': 6, 'baths': 22, 'bedrooms': 3319, 'Area Size': 3326}\n"
     ]
    }
   ],
   "source": [
    "nc = ['price', 'latitude', 'longitude', 'baths', 'bedrooms', 'Area Size']\n",
    "count = {}\n",
    "for c in nc:\n",
    "    q1 = df[c].quantile(0.25)\n",
    "    q3 = df[c].quantile(0.75)\n",
    "    iqr = q3 - q1\n",
    "    lb = q1 - 1.5 * iqr\n",
    "    ub = q3 + 1.5 * iqr\n",
    "    outlier = (df[c] < lb) | (df[c] > ub)\n",
    "    count[c] = outlier.sum()\n",
    "print(count)"
   ]
  },
  {
   "cell_type": "code",
   "execution_count": 34,
   "id": "d08142ac-1fe8-43fe-b04e-230793ddb5b7",
   "metadata": {},
   "outputs": [],
   "source": [
    "df['price'] = winsorize(df['price'], limits=[0.01, 0.01])\n",
    "df['latitude'] = winsorize(df['latitude'], limits=[0.05, 0.05])\n",
    "df['longitude'] = winsorize(df['longitude'], limits=[0.05, 0.05])\n",
    "df['baths'] = winsorize(df['baths'], limits=[0.05, 0.05])\n",
    "df['bedrooms'] = winsorize(df['bedrooms'], limits=[0.05, 0.05])\n",
    "df['Area Size'] = winsorize(df['Area Size'], limits=[0.05, 0.05])"
   ]
  },
  {
   "cell_type": "code",
   "execution_count": 38,
   "id": "035eb854-07bb-4f4e-b007-6a836a6e88d7",
   "metadata": {},
   "outputs": [
    {
     "name": "stderr",
     "output_type": "stream",
     "text": [
      "C:\\ProgramData\\anaconda3\\Lib\\site-packages\\numpy\\lib\\function_base.py:4824: UserWarning: Warning: 'partition' will ignore the 'mask' of the MaskedArray.\n",
      "  arr.partition(\n",
      "C:\\ProgramData\\anaconda3\\Lib\\site-packages\\numpy\\lib\\function_base.py:4824: UserWarning: Warning: 'partition' will ignore the 'mask' of the MaskedArray.\n",
      "  arr.partition(\n",
      "C:\\Users\\Smart\\AppData\\Local\\Temp\\ipykernel_4872\\2882164633.py:7: FutureWarning: Setting an item of incompatible dtype is deprecated and will raise in a future error of pandas. Value '16811397.30834763' has dtype incompatible with int64, please explicitly cast to a compatible dtype first.\n",
      "  df.loc[df['price'] > price_ub, 'price'] = price_mean\n"
     ]
    }
   ],
   "source": [
    "price_q1 = df['price'].quantile(0.25)\n",
    "price_q3 = df['price'].quantile(0.75)\n",
    "price_iqr = price_q3 - price_q1\n",
    "price_lb = price_q1 - 1.5 * price_iqr\n",
    "price_ub = price_q3 + 1.5 * price_iqr\n",
    "price_mean = df['price'].mean()\n",
    "df.loc[df['price'] > price_ub, 'price'] = price_mean\n",
    "df.loc[df['price'] < price_lb, 'price'] = price_mean"
   ]
  },
  {
   "cell_type": "code",
   "execution_count": 40,
   "id": "fab9ea33-52c0-4a80-8829-4667af8e8bca",
   "metadata": {},
   "outputs": [
    {
     "name": "stdout",
     "output_type": "stream",
     "text": [
      "price        0\n",
      "latitude     0\n",
      "longitude    0\n",
      "baths        0\n",
      "bedrooms     0\n",
      "Area Size    0\n",
      "dtype: int64\n"
     ]
    }
   ],
   "source": [
    "outlierUpdated = (df[nc] < price_lb) | (df[nc] > price_ub)\n",
    "updatedCountOutlier = outlierUpdated.sum()\n",
    "print(updatedCountOutlier)"
   ]
  },
  {
   "cell_type": "code",
   "execution_count": 42,
   "id": "6913616a-d622-4163-bb2f-4556cffa0358",
   "metadata": {},
   "outputs": [],
   "source": [
    "df['agency'] = df['agency'].str.strip().str.title()\n",
    "df['agency'].fillna('NA', inplace=True)"
   ]
  },
  {
   "cell_type": "code",
   "execution_count": 44,
   "id": "f6c8dd9b-2657-4fb3-b478-efbd3703ad5f",
   "metadata": {},
   "outputs": [],
   "source": [
    "lat_mean = df['latitude'].mean()\n",
    "lon_mean = df['longitude'].mean()\n",
    "m = folium.Map(location=[lat_mean, lon_mean], zoom_start=6)\n",
    "marker_cluster = MarkerCluster().add_to(m)\n",
    "for _, row in df.iterrows():\n",
    " folium.Marker(\n",
    " location=[row['latitude'], row['longitude']],\n",
    " popup=f\"Price: {row['price']}, Beds: {row['bedrooms']}, Baths: {row['baths']}\"\n",
    " ).add_to(marker_cluster)\n",
    "map_filename = 'house_price_map.html'\n",
    "m.save(map_filename)"
   ]
  },
  {
   "cell_type": "code",
   "execution_count": 45,
   "id": "68e868f4-ccaa-4e8a-8daf-1e1d3d0b775a",
   "metadata": {},
   "outputs": [],
   "source": [
    "from datetime import datetime\n",
    "currYear = datetime.now().year\n",
    "df['date_added'] = pd.to_datetime(df['date_added'], errors='coerce')\n",
    "df['house_age'] = currYear - df['date_added'].dt.year // 365\n",
    "df['house_age'].fillna(df['house_age'].median(), inplace=True)"
   ]
  },
  {
   "cell_type": "code",
   "execution_count": 46,
   "id": "93ab9f71-c007-43c6-bfec-3092520fd74e",
   "metadata": {},
   "outputs": [],
   "source": [
    "def convert_area(area):\n",
    " if isinstance(area, str):\n",
    "     area = area.replace(',', '')\n",
    " if 'Marla' in area:\n",
    "     value = float(area.split()[0])\n",
    "     return value * 272.25\n",
    " elif 'Kanal' in area:\n",
    "     value = float(area.split()[0])\n",
    "     return value * 20 * 272.25\n",
    " elif 'Square Feet' in area:\n",
    "     value = float(area.split()[0])\n",
    "     return value\n",
    " return area\n",
    "df['area'] = df['area'].apply(convert_area)"
   ]
  },
  {
   "cell_type": "code",
   "execution_count": 47,
   "id": "a5f14683-20fb-4d16-a952-be2ff5b6d732",
   "metadata": {},
   "outputs": [
    {
     "name": "stdout",
     "output_type": "stream",
     "text": [
      "      area\n",
      "0   1089.0\n",
      "1   1524.6\n",
      "2   2178.0\n",
      "3  10890.0\n",
      "4   2178.0\n"
     ]
    }
   ],
   "source": [
    "df['area'] = df['area'].astype(str)\n",
    "df['area'] = df['area'].str.replace(' Marla', '', regex=False).str.replace(',', '').astype(float)\n",
    "print(df[['area']].head())"
   ]
  },
  {
   "cell_type": "code",
   "execution_count": 80,
   "id": "9532548f-5055-4a0d-b8dd-9f601d7b2c6d",
   "metadata": {},
   "outputs": [],
   "source": [
    "df['priceToSqft'] = df['price'] / df['area']"
   ]
  },
  {
   "cell_type": "code",
   "execution_count": 48,
   "id": "09304f6b-fadc-43ae-88a7-51a7bbda3751",
   "metadata": {},
   "outputs": [],
   "source": [
    "df['bedroomToFloor'] = df['bedrooms'] / df['area']\n",
    "df['bedroomToFloor'].replace([np.inf, -np.inf], np.nan, inplace=True)\n",
    "df['bedroomToFloor'].fillna(df['bedroomToFloor'].median(), inplace=True)"
   ]
  },
  {
   "cell_type": "code",
   "execution_count": 49,
   "id": "f8d67c74-0166-40c8-9abc-d18f6faadd6c",
   "metadata": {},
   "outputs": [],
   "source": [
    "df['bathToBedroom'] = df['baths'] / df['bedrooms']\n",
    "df['bathToBedroom'].replace([np.inf, -np.inf], np.nan, inplace=True)\n",
    "df['bathToBedroom'].fillna(df['bathToBedroom'].median(), inplace=True)"
   ]
  },
  {
   "cell_type": "code",
   "execution_count": 50,
   "id": "a2c24d0d-66bb-4116-b62c-a7e327f89f1f",
   "metadata": {},
   "outputs": [
    {
     "name": "stdout",
     "output_type": "stream",
     "text": [
      "Index(['property_id', 'location_id', 'page_url', 'property_type', 'price',\n",
      "       'location', 'city', 'province_name', 'latitude', 'longitude', 'baths',\n",
      "       'area', 'purpose', 'bedrooms', 'date_added', 'agency', 'agent',\n",
      "       'Area Type', 'Area Size', 'Area Category', 'house_age',\n",
      "       'bedroomToFloor', 'bathToBedroom'],\n",
      "      dtype='object')\n"
     ]
    }
   ],
   "source": [
    "print(df.columns)"
   ]
  },
  {
   "cell_type": "code",
   "execution_count": 51,
   "id": "4dd9f8a6-4149-45aa-b667-9f018d0c52b7",
   "metadata": {},
   "outputs": [],
   "source": [
    "categorical_columns = ['property_type', 'location', 'city', 'province_name', 'purpose', 'agency', 'agent', 'Area Type', 'Area Category']\n",
    "df_encoded = pd.get_dummies(df, columns=categorical_columns, drop_first=True)"
   ]
  },
  {
   "cell_type": "code",
   "execution_count": 59,
   "id": "0c4d9d45-75a4-4860-b324-1182429c4f39",
   "metadata": {},
   "outputs": [],
   "source": [
    "df['price_zscore'] = zscore(df['price'])\n",
    "outlierHigh = df[df['price_zscore'] > 3]\n",
    "outlierLow = df[df['price_zscore'] < -3]"
   ]
  },
  {
   "cell_type": "code",
   "execution_count": 61,
   "id": "071ced34-006d-44bd-86c7-ea3f0d725e96",
   "metadata": {},
   "outputs": [],
   "source": [
    "features = ['area', 'bedrooms', 'baths', 'house_age', 'latitude', 'longitude']\n",
    "target = 'price'\n",
    "X = df[features]\n",
    "y = df[target]\n",
    "X_train, X_test, y_train, y_test = train_test_split(X, y, test_size=0.2, random_state=42)"
   ]
  },
  {
   "cell_type": "code",
   "execution_count": 66,
   "id": "d74f630c-229c-447f-b35a-10e351d458ae",
   "metadata": {},
   "outputs": [
    {
     "data": {
      "text/html": [
       "<style>#sk-container-id-2 {color: black;background-color: white;}#sk-container-id-2 pre{padding: 0;}#sk-container-id-2 div.sk-toggleable {background-color: white;}#sk-container-id-2 label.sk-toggleable__label {cursor: pointer;display: block;width: 100%;margin-bottom: 0;padding: 0.3em;box-sizing: border-box;text-align: center;}#sk-container-id-2 label.sk-toggleable__label-arrow:before {content: \"▸\";float: left;margin-right: 0.25em;color: #696969;}#sk-container-id-2 label.sk-toggleable__label-arrow:hover:before {color: black;}#sk-container-id-2 div.sk-estimator:hover label.sk-toggleable__label-arrow:before {color: black;}#sk-container-id-2 div.sk-toggleable__content {max-height: 0;max-width: 0;overflow: hidden;text-align: left;background-color: #f0f8ff;}#sk-container-id-2 div.sk-toggleable__content pre {margin: 0.2em;color: black;border-radius: 0.25em;background-color: #f0f8ff;}#sk-container-id-2 input.sk-toggleable__control:checked~div.sk-toggleable__content {max-height: 200px;max-width: 100%;overflow: auto;}#sk-container-id-2 input.sk-toggleable__control:checked~label.sk-toggleable__label-arrow:before {content: \"▾\";}#sk-container-id-2 div.sk-estimator input.sk-toggleable__control:checked~label.sk-toggleable__label {background-color: #d4ebff;}#sk-container-id-2 div.sk-label input.sk-toggleable__control:checked~label.sk-toggleable__label {background-color: #d4ebff;}#sk-container-id-2 input.sk-hidden--visually {border: 0;clip: rect(1px 1px 1px 1px);clip: rect(1px, 1px, 1px, 1px);height: 1px;margin: -1px;overflow: hidden;padding: 0;position: absolute;width: 1px;}#sk-container-id-2 div.sk-estimator {font-family: monospace;background-color: #f0f8ff;border: 1px dotted black;border-radius: 0.25em;box-sizing: border-box;margin-bottom: 0.5em;}#sk-container-id-2 div.sk-estimator:hover {background-color: #d4ebff;}#sk-container-id-2 div.sk-parallel-item::after {content: \"\";width: 100%;border-bottom: 1px solid gray;flex-grow: 1;}#sk-container-id-2 div.sk-label:hover label.sk-toggleable__label {background-color: #d4ebff;}#sk-container-id-2 div.sk-serial::before {content: \"\";position: absolute;border-left: 1px solid gray;box-sizing: border-box;top: 0;bottom: 0;left: 50%;z-index: 0;}#sk-container-id-2 div.sk-serial {display: flex;flex-direction: column;align-items: center;background-color: white;padding-right: 0.2em;padding-left: 0.2em;position: relative;}#sk-container-id-2 div.sk-item {position: relative;z-index: 1;}#sk-container-id-2 div.sk-parallel {display: flex;align-items: stretch;justify-content: center;background-color: white;position: relative;}#sk-container-id-2 div.sk-item::before, #sk-container-id-2 div.sk-parallel-item::before {content: \"\";position: absolute;border-left: 1px solid gray;box-sizing: border-box;top: 0;bottom: 0;left: 50%;z-index: -1;}#sk-container-id-2 div.sk-parallel-item {display: flex;flex-direction: column;z-index: 1;position: relative;background-color: white;}#sk-container-id-2 div.sk-parallel-item:first-child::after {align-self: flex-end;width: 50%;}#sk-container-id-2 div.sk-parallel-item:last-child::after {align-self: flex-start;width: 50%;}#sk-container-id-2 div.sk-parallel-item:only-child::after {width: 0;}#sk-container-id-2 div.sk-dashed-wrapped {border: 1px dashed gray;margin: 0 0.4em 0.5em 0.4em;box-sizing: border-box;padding-bottom: 0.4em;background-color: white;}#sk-container-id-2 div.sk-label label {font-family: monospace;font-weight: bold;display: inline-block;line-height: 1.2em;}#sk-container-id-2 div.sk-label-container {text-align: center;}#sk-container-id-2 div.sk-container {/* jupyter's `normalize.less` sets `[hidden] { display: none; }` but bootstrap.min.css set `[hidden] { display: none !important; }` so we also need the `!important` here to be able to override the default hidden behavior on the sphinx rendered scikit-learn.org. See: https://github.com/scikit-learn/scikit-learn/issues/21755 */display: inline-block !important;position: relative;}#sk-container-id-2 div.sk-text-repr-fallback {display: none;}</style><div id=\"sk-container-id-2\" class=\"sk-top-container\"><div class=\"sk-text-repr-fallback\"><pre>LinearRegression()</pre><b>In a Jupyter environment, please rerun this cell to show the HTML representation or trust the notebook. <br />On GitHub, the HTML representation is unable to render, please try loading this page with nbviewer.org.</b></div><div class=\"sk-container\" hidden><div class=\"sk-item\"><div class=\"sk-estimator sk-toggleable\"><input class=\"sk-toggleable__control sk-hidden--visually\" id=\"sk-estimator-id-2\" type=\"checkbox\" checked><label for=\"sk-estimator-id-2\" class=\"sk-toggleable__label sk-toggleable__label-arrow\">LinearRegression</label><div class=\"sk-toggleable__content\"><pre>LinearRegression()</pre></div></div></div></div></div>"
      ],
      "text/plain": [
       "LinearRegression()"
      ]
     },
     "execution_count": 66,
     "metadata": {},
     "output_type": "execute_result"
    }
   ],
   "source": [
    "lrModel = LinearRegression()\n",
    "lrModel.fit(X_train, y_train)"
   ]
  },
  {
   "cell_type": "code",
   "execution_count": 76,
   "id": "2d9b35c9-f4e3-449c-a3a2-464560d719e8",
   "metadata": {},
   "outputs": [
    {
     "name": "stdout",
     "output_type": "stream",
     "text": [
      "MAE: 7124822.044877812\n",
      "MSE: 92482556338327.88\n",
      "R2: 0.24622447667397995\n"
     ]
    }
   ],
   "source": [
    "yPredLR = lrModel.predict(X_test)\n",
    "maeLR = mean_absolute_error(y_test, yPredLR)\n",
    "mseLR = mean_squared_error(y_test, yPredLR)\n",
    "r2LR = r2_score(y_test, yPredLR)\n",
    "print(\"MAE:\", maeLR)\n",
    "print(\"MSE:\", mseLR)\n",
    "print(\"R2:\", r2LR)"
   ]
  },
  {
   "cell_type": "code",
   "execution_count": 72,
   "id": "59636aa1-204b-4c53-ac55-f891c1862978",
   "metadata": {},
   "outputs": [
    {
     "data": {
      "text/html": [
       "<style>#sk-container-id-3 {color: black;background-color: white;}#sk-container-id-3 pre{padding: 0;}#sk-container-id-3 div.sk-toggleable {background-color: white;}#sk-container-id-3 label.sk-toggleable__label {cursor: pointer;display: block;width: 100%;margin-bottom: 0;padding: 0.3em;box-sizing: border-box;text-align: center;}#sk-container-id-3 label.sk-toggleable__label-arrow:before {content: \"▸\";float: left;margin-right: 0.25em;color: #696969;}#sk-container-id-3 label.sk-toggleable__label-arrow:hover:before {color: black;}#sk-container-id-3 div.sk-estimator:hover label.sk-toggleable__label-arrow:before {color: black;}#sk-container-id-3 div.sk-toggleable__content {max-height: 0;max-width: 0;overflow: hidden;text-align: left;background-color: #f0f8ff;}#sk-container-id-3 div.sk-toggleable__content pre {margin: 0.2em;color: black;border-radius: 0.25em;background-color: #f0f8ff;}#sk-container-id-3 input.sk-toggleable__control:checked~div.sk-toggleable__content {max-height: 200px;max-width: 100%;overflow: auto;}#sk-container-id-3 input.sk-toggleable__control:checked~label.sk-toggleable__label-arrow:before {content: \"▾\";}#sk-container-id-3 div.sk-estimator input.sk-toggleable__control:checked~label.sk-toggleable__label {background-color: #d4ebff;}#sk-container-id-3 div.sk-label input.sk-toggleable__control:checked~label.sk-toggleable__label {background-color: #d4ebff;}#sk-container-id-3 input.sk-hidden--visually {border: 0;clip: rect(1px 1px 1px 1px);clip: rect(1px, 1px, 1px, 1px);height: 1px;margin: -1px;overflow: hidden;padding: 0;position: absolute;width: 1px;}#sk-container-id-3 div.sk-estimator {font-family: monospace;background-color: #f0f8ff;border: 1px dotted black;border-radius: 0.25em;box-sizing: border-box;margin-bottom: 0.5em;}#sk-container-id-3 div.sk-estimator:hover {background-color: #d4ebff;}#sk-container-id-3 div.sk-parallel-item::after {content: \"\";width: 100%;border-bottom: 1px solid gray;flex-grow: 1;}#sk-container-id-3 div.sk-label:hover label.sk-toggleable__label {background-color: #d4ebff;}#sk-container-id-3 div.sk-serial::before {content: \"\";position: absolute;border-left: 1px solid gray;box-sizing: border-box;top: 0;bottom: 0;left: 50%;z-index: 0;}#sk-container-id-3 div.sk-serial {display: flex;flex-direction: column;align-items: center;background-color: white;padding-right: 0.2em;padding-left: 0.2em;position: relative;}#sk-container-id-3 div.sk-item {position: relative;z-index: 1;}#sk-container-id-3 div.sk-parallel {display: flex;align-items: stretch;justify-content: center;background-color: white;position: relative;}#sk-container-id-3 div.sk-item::before, #sk-container-id-3 div.sk-parallel-item::before {content: \"\";position: absolute;border-left: 1px solid gray;box-sizing: border-box;top: 0;bottom: 0;left: 50%;z-index: -1;}#sk-container-id-3 div.sk-parallel-item {display: flex;flex-direction: column;z-index: 1;position: relative;background-color: white;}#sk-container-id-3 div.sk-parallel-item:first-child::after {align-self: flex-end;width: 50%;}#sk-container-id-3 div.sk-parallel-item:last-child::after {align-self: flex-start;width: 50%;}#sk-container-id-3 div.sk-parallel-item:only-child::after {width: 0;}#sk-container-id-3 div.sk-dashed-wrapped {border: 1px dashed gray;margin: 0 0.4em 0.5em 0.4em;box-sizing: border-box;padding-bottom: 0.4em;background-color: white;}#sk-container-id-3 div.sk-label label {font-family: monospace;font-weight: bold;display: inline-block;line-height: 1.2em;}#sk-container-id-3 div.sk-label-container {text-align: center;}#sk-container-id-3 div.sk-container {/* jupyter's `normalize.less` sets `[hidden] { display: none; }` but bootstrap.min.css set `[hidden] { display: none !important; }` so we also need the `!important` here to be able to override the default hidden behavior on the sphinx rendered scikit-learn.org. See: https://github.com/scikit-learn/scikit-learn/issues/21755 */display: inline-block !important;position: relative;}#sk-container-id-3 div.sk-text-repr-fallback {display: none;}</style><div id=\"sk-container-id-3\" class=\"sk-top-container\"><div class=\"sk-text-repr-fallback\"><pre>RandomForestRegressor(random_state=42)</pre><b>In a Jupyter environment, please rerun this cell to show the HTML representation or trust the notebook. <br />On GitHub, the HTML representation is unable to render, please try loading this page with nbviewer.org.</b></div><div class=\"sk-container\" hidden><div class=\"sk-item\"><div class=\"sk-estimator sk-toggleable\"><input class=\"sk-toggleable__control sk-hidden--visually\" id=\"sk-estimator-id-3\" type=\"checkbox\" checked><label for=\"sk-estimator-id-3\" class=\"sk-toggleable__label sk-toggleable__label-arrow\">RandomForestRegressor</label><div class=\"sk-toggleable__content\"><pre>RandomForestRegressor(random_state=42)</pre></div></div></div></div></div>"
      ],
      "text/plain": [
       "RandomForestRegressor(random_state=42)"
      ]
     },
     "execution_count": 72,
     "metadata": {},
     "output_type": "execute_result"
    }
   ],
   "source": [
    "rfModel = RandomForestRegressor(n_estimators=100, random_state=42)\n",
    "rfModel.fit(X_train, y_train)"
   ]
  },
  {
   "cell_type": "code",
   "execution_count": 78,
   "id": "8fd8dc71-04e9-4d3c-81cb-459a430967ab",
   "metadata": {},
   "outputs": [
    {
     "name": "stdout",
     "output_type": "stream",
     "text": [
      "MAE: 4124486.804822419\n",
      "MSE: 49980837246734.59\n",
      "R2: 0.5926331057058325\n"
     ]
    }
   ],
   "source": [
    "yPredRF = rfModel.predict(X_test)\n",
    "maeRF = mean_absolute_error(y_test, yPredRF)\n",
    "mseRF = mean_squared_error(y_test, yPredRF)\n",
    "r2RF = r2_score(y_test, yPredRF)\n",
    "print(\"MAE:\", maeRF)\n",
    "print(\"MSE:\", mseRF)\n",
    "print(\"R2:\", r2RF)"
   ]
  },
  {
   "cell_type": "code",
   "execution_count": 80,
   "id": "6cc8f09c-d2e2-4a0a-b8dc-0922e81122df",
   "metadata": {},
   "outputs": [
    {
     "data": {
      "text/html": [
       "<style>#sk-container-id-4 {color: black;background-color: white;}#sk-container-id-4 pre{padding: 0;}#sk-container-id-4 div.sk-toggleable {background-color: white;}#sk-container-id-4 label.sk-toggleable__label {cursor: pointer;display: block;width: 100%;margin-bottom: 0;padding: 0.3em;box-sizing: border-box;text-align: center;}#sk-container-id-4 label.sk-toggleable__label-arrow:before {content: \"▸\";float: left;margin-right: 0.25em;color: #696969;}#sk-container-id-4 label.sk-toggleable__label-arrow:hover:before {color: black;}#sk-container-id-4 div.sk-estimator:hover label.sk-toggleable__label-arrow:before {color: black;}#sk-container-id-4 div.sk-toggleable__content {max-height: 0;max-width: 0;overflow: hidden;text-align: left;background-color: #f0f8ff;}#sk-container-id-4 div.sk-toggleable__content pre {margin: 0.2em;color: black;border-radius: 0.25em;background-color: #f0f8ff;}#sk-container-id-4 input.sk-toggleable__control:checked~div.sk-toggleable__content {max-height: 200px;max-width: 100%;overflow: auto;}#sk-container-id-4 input.sk-toggleable__control:checked~label.sk-toggleable__label-arrow:before {content: \"▾\";}#sk-container-id-4 div.sk-estimator input.sk-toggleable__control:checked~label.sk-toggleable__label {background-color: #d4ebff;}#sk-container-id-4 div.sk-label input.sk-toggleable__control:checked~label.sk-toggleable__label {background-color: #d4ebff;}#sk-container-id-4 input.sk-hidden--visually {border: 0;clip: rect(1px 1px 1px 1px);clip: rect(1px, 1px, 1px, 1px);height: 1px;margin: -1px;overflow: hidden;padding: 0;position: absolute;width: 1px;}#sk-container-id-4 div.sk-estimator {font-family: monospace;background-color: #f0f8ff;border: 1px dotted black;border-radius: 0.25em;box-sizing: border-box;margin-bottom: 0.5em;}#sk-container-id-4 div.sk-estimator:hover {background-color: #d4ebff;}#sk-container-id-4 div.sk-parallel-item::after {content: \"\";width: 100%;border-bottom: 1px solid gray;flex-grow: 1;}#sk-container-id-4 div.sk-label:hover label.sk-toggleable__label {background-color: #d4ebff;}#sk-container-id-4 div.sk-serial::before {content: \"\";position: absolute;border-left: 1px solid gray;box-sizing: border-box;top: 0;bottom: 0;left: 50%;z-index: 0;}#sk-container-id-4 div.sk-serial {display: flex;flex-direction: column;align-items: center;background-color: white;padding-right: 0.2em;padding-left: 0.2em;position: relative;}#sk-container-id-4 div.sk-item {position: relative;z-index: 1;}#sk-container-id-4 div.sk-parallel {display: flex;align-items: stretch;justify-content: center;background-color: white;position: relative;}#sk-container-id-4 div.sk-item::before, #sk-container-id-4 div.sk-parallel-item::before {content: \"\";position: absolute;border-left: 1px solid gray;box-sizing: border-box;top: 0;bottom: 0;left: 50%;z-index: -1;}#sk-container-id-4 div.sk-parallel-item {display: flex;flex-direction: column;z-index: 1;position: relative;background-color: white;}#sk-container-id-4 div.sk-parallel-item:first-child::after {align-self: flex-end;width: 50%;}#sk-container-id-4 div.sk-parallel-item:last-child::after {align-self: flex-start;width: 50%;}#sk-container-id-4 div.sk-parallel-item:only-child::after {width: 0;}#sk-container-id-4 div.sk-dashed-wrapped {border: 1px dashed gray;margin: 0 0.4em 0.5em 0.4em;box-sizing: border-box;padding-bottom: 0.4em;background-color: white;}#sk-container-id-4 div.sk-label label {font-family: monospace;font-weight: bold;display: inline-block;line-height: 1.2em;}#sk-container-id-4 div.sk-label-container {text-align: center;}#sk-container-id-4 div.sk-container {/* jupyter's `normalize.less` sets `[hidden] { display: none; }` but bootstrap.min.css set `[hidden] { display: none !important; }` so we also need the `!important` here to be able to override the default hidden behavior on the sphinx rendered scikit-learn.org. See: https://github.com/scikit-learn/scikit-learn/issues/21755 */display: inline-block !important;position: relative;}#sk-container-id-4 div.sk-text-repr-fallback {display: none;}</style><div id=\"sk-container-id-4\" class=\"sk-top-container\"><div class=\"sk-text-repr-fallback\"><pre>GradientBoostingRegressor(random_state=42)</pre><b>In a Jupyter environment, please rerun this cell to show the HTML representation or trust the notebook. <br />On GitHub, the HTML representation is unable to render, please try loading this page with nbviewer.org.</b></div><div class=\"sk-container\" hidden><div class=\"sk-item\"><div class=\"sk-estimator sk-toggleable\"><input class=\"sk-toggleable__control sk-hidden--visually\" id=\"sk-estimator-id-4\" type=\"checkbox\" checked><label for=\"sk-estimator-id-4\" class=\"sk-toggleable__label sk-toggleable__label-arrow\">GradientBoostingRegressor</label><div class=\"sk-toggleable__content\"><pre>GradientBoostingRegressor(random_state=42)</pre></div></div></div></div></div>"
      ],
      "text/plain": [
       "GradientBoostingRegressor(random_state=42)"
      ]
     },
     "execution_count": 80,
     "metadata": {},
     "output_type": "execute_result"
    }
   ],
   "source": [
    "gbModel = GradientBoostingRegressor(n_estimators=100, random_state=42)\n",
    "gbModel.fit(X_train, y_train)"
   ]
  },
  {
   "cell_type": "code",
   "execution_count": 86,
   "id": "ffb9bd21-f49d-4be5-a6e3-f06cf58dd324",
   "metadata": {},
   "outputs": [
    {
     "name": "stdout",
     "output_type": "stream",
     "text": [
      "MAE: 5580709.0079267025\n",
      "MSE: 62483769795104.34\n",
      "R2: 0.4907284341883179\n"
     ]
    }
   ],
   "source": [
    "yPredGB = gbModel.predict(X_test)\n",
    "maeGB = mean_absolute_error(y_test, yPredGB)\n",
    "mseGB = mean_squared_error(y_test, yPredGB)\n",
    "r2GB = r2_score(y_test, yPredGB)\n",
    "print(\"MAE:\", maeGB)\n",
    "print(\"MSE:\", mseGB)\n",
    "print(\"R2:\", r2GB)"
   ]
  }
 ],
 "metadata": {
  "kernelspec": {
   "display_name": "Python 3 (ipykernel)",
   "language": "python",
   "name": "python3"
  },
  "language_info": {
   "codemirror_mode": {
    "name": "ipython",
    "version": 3
   },
   "file_extension": ".py",
   "mimetype": "text/x-python",
   "name": "python",
   "nbconvert_exporter": "python",
   "pygments_lexer": "ipython3",
   "version": "3.11.7"
  }
 },
 "nbformat": 4,
 "nbformat_minor": 5
}
