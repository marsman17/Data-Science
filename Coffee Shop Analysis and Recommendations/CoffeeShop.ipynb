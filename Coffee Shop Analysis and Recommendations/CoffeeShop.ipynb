{
 "cells": [
  {
   "cell_type": "code",
   "execution_count": 6,
   "id": "4b669255-aa0c-4ef0-b558-fe042eb5eeb0",
   "metadata": {},
   "outputs": [],
   "source": [
    "import pandas as pd\n",
    "import matplotlib.pyplot as plt\n",
    "import seaborn as sns\n",
    "import statsmodels.api as sm\n",
    "from sklearn.linear_model import LinearRegression\n",
    "from sklearn.model_selection import train_test_split"
   ]
  },
  {
   "cell_type": "code",
   "execution_count": 7,
   "id": "5a87b824-ce04-4163-b676-f88f719b46e9",
   "metadata": {},
   "outputs": [],
   "source": [
    "data = pd.read_excel(\"Coffee Shop Sales.xlsx\")"
   ]
  },
  {
   "cell_type": "code",
   "execution_count": 8,
   "id": "03a73aec-a23a-41af-9a2b-16a7ee2363d5",
   "metadata": {},
   "outputs": [
    {
     "name": "stdout",
     "output_type": "stream",
     "text": [
      "transaction_id      0\n",
      "transaction_date    0\n",
      "transaction_time    0\n",
      "transaction_qty     0\n",
      "store_id            0\n",
      "store_location      0\n",
      "product_id          0\n",
      "unit_price          0\n",
      "product_category    0\n",
      "product_type        0\n",
      "product_detail      0\n",
      "dtype: int64\n"
     ]
    }
   ],
   "source": [
    "missingVals = data.isnull().sum()\n",
    "print(missingVals)"
   ]
  },
  {
   "cell_type": "code",
   "execution_count": 9,
   "id": "816a419c-8778-41ec-bf71-e905f62f364e",
   "metadata": {},
   "outputs": [],
   "source": [
    "duplicates = data.duplicated().sum()\n",
    "cleanedData = data.drop_duplicates()"
   ]
  },
  {
   "cell_type": "code",
   "execution_count": 11,
   "id": "32869bba-05cd-457c-9b0c-8be1f45dbdb1",
   "metadata": {},
   "outputs": [],
   "source": [
    "for c in cleanedData.select_dtypes(include=['object']).columns:\n",
    " cleanedData[c] = cleanedData[c].astype(str)\n",
    "for c in cleanedData.select_dtypes(include=['object']).columns:\n",
    " cleanedData[c] = cleanedData[c].str.strip()\n",
    "cleanedData['transaction_time'] = pd.to_datetime(cleanedData['transaction_time'], format='%H:%M:%S')"
   ]
  },
  {
   "cell_type": "code",
   "execution_count": 13,
   "id": "365c12c4-e2cc-4d36-a560-153b69b59140",
   "metadata": {},
   "outputs": [],
   "source": [
    "cleanedData.to_excel(\"Cleaned_Coffee_Shop_Sales.xlsx\", index=False)"
   ]
  },
  {
   "cell_type": "code",
   "execution_count": 18,
   "id": "1651951a-ce3e-4b67-a389-4f2b46d8c9f5",
   "metadata": {},
   "outputs": [],
   "source": [
    "cleanedData['total_sales'] = cleanedData['transaction_qty'] * cleanedData['unit_price']\n",
    "prodSummary = cleanedData.groupby('product_detail').agg({\n",
    " 'transaction_qty': 'sum',\n",
    " 'unit_price': 'mean',\n",
    " 'total_sales': 'sum'\n",
    "}).reset_index()\n",
    "prodSummary['profit'] = prodSummary['total_sales'] - (prodSummary['transaction_qty'] * prodSummary['unit_price'])"
   ]
  },
  {
   "cell_type": "code",
   "execution_count": 20,
   "id": "124fe7db-be67-44ec-b716-7eab61f00ce7",
   "metadata": {},
   "outputs": [],
   "source": [
    "productsMakingProfits = prodSummary[prodSummary['profit'] > 0]\n",
    "productsCausingLoss = prodSummary[prodSummary['profit'] <= 0]"
   ]
  },
  {
   "cell_type": "code",
   "execution_count": 22,
   "id": "fa9124a5-8de5-4ea3-beca-22095e6996e2",
   "metadata": {},
   "outputs": [],
   "source": [
    "topProducts = productsMakingProfits.sort_values(by='profit', ascending=False)\n",
    "top10 = topProducts.sort_values(by='profit', ascending=False)\n",
    "bottomProducts = productsCausingLoss.sort_values(by='profit', ascending=True)\n",
    "bottom10 = productsCausingLoss.sort_values(by='profit', ascending=True)"
   ]
  },
  {
   "cell_type": "code",
   "execution_count": 24,
   "id": "d58c50b1-eb2f-4345-82b8-78dba0a37e18",
   "metadata": {},
   "outputs": [
    {
     "data": {
      "text/html": [
       "<style>#sk-container-id-1 {color: black;background-color: white;}#sk-container-id-1 pre{padding: 0;}#sk-container-id-1 div.sk-toggleable {background-color: white;}#sk-container-id-1 label.sk-toggleable__label {cursor: pointer;display: block;width: 100%;margin-bottom: 0;padding: 0.3em;box-sizing: border-box;text-align: center;}#sk-container-id-1 label.sk-toggleable__label-arrow:before {content: \"▸\";float: left;margin-right: 0.25em;color: #696969;}#sk-container-id-1 label.sk-toggleable__label-arrow:hover:before {color: black;}#sk-container-id-1 div.sk-estimator:hover label.sk-toggleable__label-arrow:before {color: black;}#sk-container-id-1 div.sk-toggleable__content {max-height: 0;max-width: 0;overflow: hidden;text-align: left;background-color: #f0f8ff;}#sk-container-id-1 div.sk-toggleable__content pre {margin: 0.2em;color: black;border-radius: 0.25em;background-color: #f0f8ff;}#sk-container-id-1 input.sk-toggleable__control:checked~div.sk-toggleable__content {max-height: 200px;max-width: 100%;overflow: auto;}#sk-container-id-1 input.sk-toggleable__control:checked~label.sk-toggleable__label-arrow:before {content: \"▾\";}#sk-container-id-1 div.sk-estimator input.sk-toggleable__control:checked~label.sk-toggleable__label {background-color: #d4ebff;}#sk-container-id-1 div.sk-label input.sk-toggleable__control:checked~label.sk-toggleable__label {background-color: #d4ebff;}#sk-container-id-1 input.sk-hidden--visually {border: 0;clip: rect(1px 1px 1px 1px);clip: rect(1px, 1px, 1px, 1px);height: 1px;margin: -1px;overflow: hidden;padding: 0;position: absolute;width: 1px;}#sk-container-id-1 div.sk-estimator {font-family: monospace;background-color: #f0f8ff;border: 1px dotted black;border-radius: 0.25em;box-sizing: border-box;margin-bottom: 0.5em;}#sk-container-id-1 div.sk-estimator:hover {background-color: #d4ebff;}#sk-container-id-1 div.sk-parallel-item::after {content: \"\";width: 100%;border-bottom: 1px solid gray;flex-grow: 1;}#sk-container-id-1 div.sk-label:hover label.sk-toggleable__label {background-color: #d4ebff;}#sk-container-id-1 div.sk-serial::before {content: \"\";position: absolute;border-left: 1px solid gray;box-sizing: border-box;top: 0;bottom: 0;left: 50%;z-index: 0;}#sk-container-id-1 div.sk-serial {display: flex;flex-direction: column;align-items: center;background-color: white;padding-right: 0.2em;padding-left: 0.2em;position: relative;}#sk-container-id-1 div.sk-item {position: relative;z-index: 1;}#sk-container-id-1 div.sk-parallel {display: flex;align-items: stretch;justify-content: center;background-color: white;position: relative;}#sk-container-id-1 div.sk-item::before, #sk-container-id-1 div.sk-parallel-item::before {content: \"\";position: absolute;border-left: 1px solid gray;box-sizing: border-box;top: 0;bottom: 0;left: 50%;z-index: -1;}#sk-container-id-1 div.sk-parallel-item {display: flex;flex-direction: column;z-index: 1;position: relative;background-color: white;}#sk-container-id-1 div.sk-parallel-item:first-child::after {align-self: flex-end;width: 50%;}#sk-container-id-1 div.sk-parallel-item:last-child::after {align-self: flex-start;width: 50%;}#sk-container-id-1 div.sk-parallel-item:only-child::after {width: 0;}#sk-container-id-1 div.sk-dashed-wrapped {border: 1px dashed gray;margin: 0 0.4em 0.5em 0.4em;box-sizing: border-box;padding-bottom: 0.4em;background-color: white;}#sk-container-id-1 div.sk-label label {font-family: monospace;font-weight: bold;display: inline-block;line-height: 1.2em;}#sk-container-id-1 div.sk-label-container {text-align: center;}#sk-container-id-1 div.sk-container {/* jupyter's `normalize.less` sets `[hidden] { display: none; }` but bootstrap.min.css set `[hidden] { display: none !important; }` so we also need the `!important` here to be able to override the default hidden behavior on the sphinx rendered scikit-learn.org. See: https://github.com/scikit-learn/scikit-learn/issues/21755 */display: inline-block !important;position: relative;}#sk-container-id-1 div.sk-text-repr-fallback {display: none;}</style><div id=\"sk-container-id-1\" class=\"sk-top-container\"><div class=\"sk-text-repr-fallback\"><pre>LinearRegression()</pre><b>In a Jupyter environment, please rerun this cell to show the HTML representation or trust the notebook. <br />On GitHub, the HTML representation is unable to render, please try loading this page with nbviewer.org.</b></div><div class=\"sk-container\" hidden><div class=\"sk-item\"><div class=\"sk-estimator sk-toggleable\"><input class=\"sk-toggleable__control sk-hidden--visually\" id=\"sk-estimator-id-1\" type=\"checkbox\" checked><label for=\"sk-estimator-id-1\" class=\"sk-toggleable__label sk-toggleable__label-arrow\">LinearRegression</label><div class=\"sk-toggleable__content\"><pre>LinearRegression()</pre></div></div></div></div></div>"
      ],
      "text/plain": [
       "LinearRegression()"
      ]
     },
     "execution_count": 24,
     "metadata": {},
     "output_type": "execute_result"
    }
   ],
   "source": [
    "feat = prodSummary[['transaction_qty', 'unit_price', 'total_sales']]\n",
    "target = prodSummary['profit']\n",
    "X_train, X_test, y_train, y_test = train_test_split(feat, target, test_size=0.2, random_state=42)\n",
    "model = LinearRegression()\n",
    "model.fit(X_train, y_train)"
   ]
  },
  {
   "cell_type": "code",
   "execution_count": 26,
   "id": "2ae1aa11-8963-4395-82df-c1afa4df4dd0",
   "metadata": {},
   "outputs": [],
   "source": [
    "profitPrediction = model.predict(X_test)\n",
    "coef = pd.DataFrame({\n",
    " 'Feat.': feat.columns,\n",
    " 'Coef.': model.coef_\n",
    "})"
   ]
  },
  {
   "cell_type": "code",
   "execution_count": 28,
   "id": "241c2098-6b0e-4308-b41e-4eff796a5d48",
   "metadata": {},
   "outputs": [],
   "source": [
    "cleanedData['transaction_date'] = pd.to_datetime(cleanedData['transaction_date'])\n",
    "dailySales = cleanedData.set_index('transaction_date').resample('D')['total_sales']\n",
    "dailySales = dailySales.fillna(0)"
   ]
  },
  {
   "cell_type": "code",
   "execution_count": 30,
   "id": "9b86711e-5c61-43b1-9c4d-a5186089298b",
   "metadata": {},
   "outputs": [],
   "source": [
    "prodSummary['profit_margin'] = (prodSummary['profit'] / prodSummary['total_sales'])\n",
    "topMarginProds = prodSummary.sort_values(by='profit_margin', ascending=False)"
   ]
  },
  {
   "cell_type": "code",
   "execution_count": 34,
   "id": "435f2bb1-159c-41ab-bce4-8723939fca33",
   "metadata": {},
   "outputs": [],
   "source": [
    "trends = cleanedData.groupby(['product_detail', pd.Grouper(key='transaction_date', freq='M')]).agg({\n",
    "    'total_sales': 'sum'\n",
    "}).reset_index()\n",
    "trends['monthly_growth'] = trends.groupby('product_detail')['total_sales'].pct_change()\n",
    "growingProds = trends.groupby('product_detail').agg({\n",
    "    'monthly_growth': 'mean'\n",
    "}).reset_index()\n",
    "growingProds = growingProds[growingProds['monthly_growth'] > 0]"
   ]
  },
  {
   "cell_type": "code",
   "execution_count": 39,
   "id": "3c6ac681-9af7-4325-a92b-7c3e194bbe97",
   "metadata": {},
   "outputs": [],
   "source": [
    "topProducts = productsMakingProfits.sort_values(by='profit', ascending=False)"
   ]
  },
  {
   "cell_type": "code",
   "execution_count": 47,
   "id": "302675d4-ea62-4fdb-af90-29e678026247",
   "metadata": {},
   "outputs": [],
   "source": [
    "grossMarginPercentage = prodSummary['profit_margin'].mean()\n",
    "lossFactors['unit_cost'] = lossFactors['unit_price'] * (1 - grossMarginPercentage)\n",
    "lossFactors['total_cost'] = lossFactors['transaction_qty'] * lossFactors['unit_cost']\n",
    "lossFactors['profit'] = lossFactors['total_sales'] - lossFactors['total_cost']\n",
    "productsCausingLoss = lossFactors[lossFactors['profit'] < 0]"
   ]
  }
 ],
 "metadata": {
  "kernelspec": {
   "display_name": "Python 3 (ipykernel)",
   "language": "python",
   "name": "python3"
  },
  "language_info": {
   "codemirror_mode": {
    "name": "ipython",
    "version": 3
   },
   "file_extension": ".py",
   "mimetype": "text/x-python",
   "name": "python",
   "nbconvert_exporter": "python",
   "pygments_lexer": "ipython3",
   "version": "3.11.7"
  }
 },
 "nbformat": 4,
 "nbformat_minor": 5
}
